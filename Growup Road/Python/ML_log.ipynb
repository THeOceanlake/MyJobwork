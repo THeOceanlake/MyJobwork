{
 "cells": [
  {
   "cell_type": "code",
   "execution_count": 1,
   "metadata": {},
   "outputs": [],
   "source": [
    "# 画图工具\n",
    "import pandas as pd\n",
    "import matplotlib.pyplot as plt\n",
    "import numpy as np \n",
    "pd.set_option('display.max_columns',1000)\n",
    "pd.set_option('display.max_rows',500)\n",
    "pd.set_option('display.width',1000)\n",
    "import matplotlib.pyplot as plt\n",
    "from matplotlib.font_manager import FontProperties \n",
    "font_set = FontProperties(fname=r\"C:\\windows\\fonts\\MicroSoft YaHei.ttc\", size=12)\n",
    "# %matplotlib inline \n",
    "# auto 弹出窗口 inline 默认，在当前页显示\n",
    "#指定默认字体\n",
    "plt.rcParams['font.sans-serif'] = ['SimHei']\n",
    "plt.rcParams['font.family']='sans-serif'\n",
    "#解决负号'-'显示为方块的问题\n",
    "plt.rcParams['axes.unicode_minus'] = False\n",
    "\n",
    "import math\n",
    "import seaborn as sns\n",
    "import warnings;warnings.filterwarnings(action='once')\n",
    "import matplotlib as mpl\n",
    "\n",
    "import random \n",
    "\n",
    "warnings.filterwarnings('ignore')\n",
    "\n",
    "large=22;med=16;small=12;\n",
    "params={'axes.titlesize':large,\n",
    "        'legend.fontsize':med,\n",
    "        'figure.figsize':(16,10),\n",
    "        'axes.labelsize':med,\n",
    "        'axes.titlesize':med,\n",
    "        'xtick.labelsize':med,\n",
    "        'ytick.labelsize':med,\n",
    "        'figure.titlesize':large}\n",
    "plt.rcParams.update(params)\n",
    "plt.style.use('seaborn-whitegrid')\n",
    "sns.set_style('white')\n",
    "# print(mpl.__version__)\n",
    "# print(sns.__version__)\n",
    "from ipywidgets import widgets,Button,Label\n",
    "from statsmodels.tsa.seasonal import STL\n"
   ]
  },
  {
   "cell_type": "code",
   "execution_count": 22,
   "metadata": {},
   "outputs": [],
   "source": [
    "'''\n",
    "感知机：线性分类模型，是一种判别模型。找一个超平面将数据集分成两部分\n",
    "原始形步骤：\n",
    "    1、初始化 w0 b0\n",
    "    2、随机取值 x0 y0,\n",
    "    3、如果 y0*(w0*x0+b0)<=0,更新w,b的值\n",
    "        w1=w0+y0*x0*n\n",
    "        b1=b0+n*y0\n",
    "    4、转2 直到分类完成\n",
    "    5、模型输出值就是w b 的值，并对新数据做预测\n",
    "    因为初值和选取点的顺序，得到的结果-超平面可能会不一样，那么会有筛选功能，就是用测试数据\n",
    "'''\n",
    "class Perceptron(object):\n",
    "\n",
    "    # __init__是一个特殊方法用于在创建对象时进行初始化操作\n",
    "    # 通过这个方法我们可以为 对象绑定 属性\n",
    "    # eta 为学习速率，n_iter 是迭代最大次数\n",
    "    def __init__(self,eta=1):\n",
    "        self.eta = eta\n",
    "    \n",
    "    def fit(self,x,y=None):\n",
    "        self.x=x\n",
    "        self.y=y\n",
    "        self.w=np.zeros(self.x.shape[1])\n",
    "        self.b=0\n",
    "        self.numsamples=self.x.shape[0]\n",
    "        self.numfeatures=self.x.shape[1]\n",
    "        return self._train()\n",
    "    # 计算y值\n",
    "    def signvalue(self,x,w,b):\n",
    "        y=np.dot(x,w)+b\n",
    "        return y\n",
    "    \n",
    "    def update(self,label,d):\n",
    "        tmp=label*self.eta*d\n",
    "        \n",
    "        #tmp=tmp.reshape(self.w.shape)\n",
    "        # print('b',self.w)\n",
    "        # print('tmp is %s'%(tmp))\n",
    "        self.w=self.w+tmp\n",
    "        # print('af%s'%(self.w))\n",
    "        self.b=self.b+self.eta*label\n",
    "    \n",
    "    # 训练函数\n",
    "    def _train(self):\n",
    "        isFind=self.numsamples-1;\n",
    "        while isFind>0:\n",
    "            print('isflind%s'%(isFind))\n",
    "            for i in range(self.numsamples):\n",
    "                tmp_y=self.signvalue(self.x[i,:],self.w,self.b)\n",
    "                if tmp_y*self.y[i]<=0:\n",
    "                    self.update(self.y[i],self.x[i,:])\n",
    "                    print('step%s'%(i))\n",
    "                    print(w)\n",
    "                    isFind=self.numsamples-1;\n",
    "                    continue\n",
    "                    \n",
    "                else:\n",
    "                    isFind=isFind-1\n",
    "            \n",
    "            \n",
    "        \n",
    "        return self.w,self.b\n",
    "    # 预测函数\n",
    "    def predict(self,x_p):\n",
    "        if np.dot(x_p,self.w)+self.b<=0:\n",
    "            return -1\n",
    "        else:\n",
    "            return 1 \n",
    "\n",
    "\n",
    "\n"
   ]
  },
  {
   "cell_type": "code",
   "execution_count": 3,
   "metadata": {},
   "outputs": [],
   "source": [
    "x=np.array([[3,3],[4,3],[1,1]])\n",
    "y=[1,1,-1]\n"
   ]
  },
  {
   "cell_type": "code",
   "execution_count": 26,
   "metadata": {},
   "outputs": [
    {
     "name": "stdout",
     "output_type": "stream",
     "text": [
      "isflind2\n",
      "step0\n",
      "[-0.03 -0.03]\n",
      "step2\n",
      "[-0.03 -0.03]\n",
      "isflind2\n",
      "step2\n",
      "[-0.03 -0.03]\n",
      "isflind2\n",
      "step2\n",
      "[-0.03 -0.03]\n",
      "isflind2\n",
      "step0\n",
      "[-0.03 -0.03]\n",
      "step2\n",
      "[-0.03 -0.03]\n",
      "isflind2\n",
      "step2\n",
      "[-0.03 -0.03]\n",
      "isflind2\n"
     ]
    },
    {
     "data": {
      "text/plain": [
       "1"
      ]
     },
     "execution_count": 26,
     "metadata": {},
     "output_type": "execute_result"
    }
   ],
   "source": [
    "p=Perceptron()\n",
    "p.fit(x,y)\n",
    "p.predict([10,1])"
   ]
  },
  {
   "cell_type": "code",
   "execution_count": 5,
   "metadata": {},
   "outputs": [],
   "source": [
    "w=np.zeros(x.shape[1])\n",
    "b=0\n",
    "numsamples=x.shape[0]\n",
    "numfeatures=x.shape[1]"
   ]
  },
  {
   "cell_type": "code",
   "execution_count": 6,
   "metadata": {},
   "outputs": [
    {
     "data": {
      "text/plain": [
       "0.0"
      ]
     },
     "execution_count": 6,
     "metadata": {},
     "output_type": "execute_result"
    }
   ],
   "source": [
    "np.dot(x[0,:],w)+b"
   ]
  },
  {
   "cell_type": "code",
   "execution_count": 7,
   "metadata": {},
   "outputs": [],
   "source": [
    "tmp=-1*0.01*x[0,:];\n",
    "tmp=tmp.reshape(w.shape)\n",
    "w=w+tmp\n",
    "b=b+0.01*x[0,:]"
   ]
  },
  {
   "cell_type": "code",
   "execution_count": 8,
   "metadata": {},
   "outputs": [
    {
     "data": {
      "text/plain": [
       "array([3, 3])"
      ]
     },
     "execution_count": 8,
     "metadata": {},
     "output_type": "execute_result"
    }
   ],
   "source": [
    "x[0,:]"
   ]
  }
 ],
 "metadata": {
  "interpreter": {
   "hash": "7cf3eccce7576115e181a5ae09f2daae72a99159a6227565fe0f87fc62990198"
  },
  "kernelspec": {
   "display_name": "Python 3.6.10 ('base')",
   "language": "python",
   "name": "python3"
  },
  "language_info": {
   "codemirror_mode": {
    "name": "ipython",
    "version": 3
   },
   "file_extension": ".py",
   "mimetype": "text/x-python",
   "name": "python",
   "nbconvert_exporter": "python",
   "pygments_lexer": "ipython3",
   "version": "3.6.10"
  },
  "orig_nbformat": 4
 },
 "nbformat": 4,
 "nbformat_minor": 2
}
