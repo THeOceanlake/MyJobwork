{
 "cells": [
  {
   "cell_type": "code",
   "execution_count": 12,
   "metadata": {},
   "outputs": [],
   "source": [
    "# 画图工具\n",
    "import pandas as pd\n",
    "import matplotlib.pyplot as plt\n",
    "import numpy as np \n",
    "pd.set_option('display.max_columns',1000)\n",
    "pd.set_option('display.max_rows',500)\n",
    "pd.set_option('display.width',1000)\n",
    "import matplotlib.pyplot as plt\n",
    "from matplotlib.font_manager import FontProperties \n",
    "font_set = FontProperties(fname=r\"C:\\windows\\fonts\\MicroSoft YaHei.ttc\", size=12)\n",
    "# %matplotlib inline \n",
    "# auto 弹出窗口 inline 默认，在当前页显示\n",
    "#指定默认字体\n",
    "plt.rcParams['font.sans-serif'] = ['SimHei']\n",
    "plt.rcParams['font.family']='sans-serif'\n",
    "#解决负号'-'显示为方块的问题\n",
    "plt.rcParams['axes.unicode_minus'] = False\n",
    "\n",
    "import math\n",
    "import seaborn as sns\n",
    "import warnings;warnings.filterwarnings(action='once')\n",
    "import matplotlib as mpl\n",
    "\n",
    "warnings.filterwarnings('ignore')\n",
    "\n",
    "large=22;med=16;small=12;\n",
    "params={'axes.titlesize':large,\n",
    "        'legend.fontsize':med,\n",
    "        'figure.figsize':(16,10),\n",
    "        'axes.labelsize':med,\n",
    "        'axes.titlesize':med,\n",
    "        'xtick.labelsize':med,\n",
    "        'ytick.labelsize':med,\n",
    "        'figure.titlesize':large}\n",
    "plt.rcParams.update(params)\n",
    "plt.style.use('seaborn-whitegrid')\n",
    "sns.set_style('white')\n",
    "# print(mpl.__version__)\n",
    "# print(sns.__version__)\n",
    "from ipywidgets import widgets,Button,Label\n",
    "from statsmodels.tsa.seasonal import STL\n",
    "from myFunctions import L_plot1_twoaxis\n"
   ]
  },
  {
   "cell_type": "code",
   "execution_count": 13,
   "metadata": {},
   "outputs": [
    {
     "data": {
      "text/html": [
       "<div>\n",
       "<style scoped>\n",
       "    .dataframe tbody tr th:only-of-type {\n",
       "        vertical-align: middle;\n",
       "    }\n",
       "\n",
       "    .dataframe tbody tr th {\n",
       "        vertical-align: top;\n",
       "    }\n",
       "\n",
       "    .dataframe thead th {\n",
       "        text-align: right;\n",
       "    }\n",
       "</style>\n",
       "<table border=\"1\" class=\"dataframe\">\n",
       "  <thead>\n",
       "    <tr style=\"text-align: right;\">\n",
       "      <th></th>\n",
       "      <th>drq</th>\n",
       "      <th>locn_brcd</th>\n",
       "      <th>nhwsps</th>\n",
       "      <th>nsps</th>\n",
       "      <th>Yhsl</th>\n",
       "      <th>nDhsl</th>\n",
       "    </tr>\n",
       "  </thead>\n",
       "  <tbody>\n",
       "    <tr>\n",
       "      <th>0</th>\n",
       "      <td>2022-01-21</td>\n",
       "      <td>AB0093310</td>\n",
       "      <td>1</td>\n",
       "      <td>0.0</td>\n",
       "      <td>0.0</td>\n",
       "      <td>0.0</td>\n",
       "    </tr>\n",
       "    <tr>\n",
       "      <th>1</th>\n",
       "      <td>2022-01-21</td>\n",
       "      <td>AB0093510</td>\n",
       "      <td>1</td>\n",
       "      <td>0.0</td>\n",
       "      <td>0.0</td>\n",
       "      <td>0.0</td>\n",
       "    </tr>\n",
       "    <tr>\n",
       "      <th>2</th>\n",
       "      <td>2022-01-21</td>\n",
       "      <td>AB0094310</td>\n",
       "      <td>37</td>\n",
       "      <td>0.0</td>\n",
       "      <td>0.0</td>\n",
       "      <td>0.0</td>\n",
       "    </tr>\n",
       "    <tr>\n",
       "      <th>3</th>\n",
       "      <td>2022-01-21</td>\n",
       "      <td>AB0094510</td>\n",
       "      <td>2</td>\n",
       "      <td>0.0</td>\n",
       "      <td>0.0</td>\n",
       "      <td>0.0</td>\n",
       "    </tr>\n",
       "    <tr>\n",
       "      <th>4</th>\n",
       "      <td>2022-01-21</td>\n",
       "      <td>AB0095410</td>\n",
       "      <td>6</td>\n",
       "      <td>0.0</td>\n",
       "      <td>0.0</td>\n",
       "      <td>0.0</td>\n",
       "    </tr>\n",
       "  </tbody>\n",
       "</table>\n",
       "</div>"
      ],
      "text/plain": [
       "         drq                       locn_brcd  nhwsps  nsps  Yhsl  nDhsl\n",
       "0 2022-01-21  AB0093310                            1   0.0   0.0    0.0\n",
       "1 2022-01-21  AB0093510                            1   0.0   0.0    0.0\n",
       "2 2022-01-21  AB0094310                           37   0.0   0.0    0.0\n",
       "3 2022-01-21  AB0094510                            2   0.0   0.0    0.0\n",
       "4 2022-01-21  AB0095410                            6   0.0   0.0    0.0"
      ]
     },
     "execution_count": 13,
     "metadata": {},
     "output_type": "execute_result"
    }
   ],
   "source": [
    "# Step 1 :数据导入\n",
    "df = pd.read_excel(r\"C:\\Users\\57165\\Desktop\\data\\datas\\dc_locn_jr.xlsx\",sheet_name='Sheet1',dtype={'drq':str,'locn_brcd':str})\n",
    "df=df.fillna(0)\n",
    "df['drq']=pd.to_datetime(df['drq'])\n",
    "df.head()"
   ]
  },
  {
   "cell_type": "code",
   "execution_count": 25,
   "metadata": {},
   "outputs": [],
   "source": [
    "df1=df[df['drq']>'2022-03-22']"
   ]
  },
  {
   "cell_type": "code",
   "execution_count": 31,
   "metadata": {},
   "outputs": [
    {
     "data": {
      "text/plain": [
       "drq       90.0\n",
       "nhwsps    90.0\n",
       "nsps      90.0\n",
       "Yhsl      90.0\n",
       "nDhsl     90.0\n",
       "dtype: float64"
      ]
     },
     "execution_count": 31,
     "metadata": {},
     "output_type": "execute_result"
    }
   ],
   "source": [
    "df.apply()"
   ]
  },
  {
   "cell_type": "code",
   "execution_count": 44,
   "metadata": {},
   "outputs": [
    {
     "data": {
      "application/vnd.jupyter.widget-view+json": {
       "model_id": "4e436913845749d58447e2b5691724f0",
       "version_major": 2,
       "version_minor": 0
      },
      "text/plain": [
       "interactive(children=(Dropdown(description='l', options=('AB0093310                     ', 'AB0093510         …"
      ]
     },
     "metadata": {},
     "output_type": "display_data"
    },
    {
     "data": {
      "text/plain": [
       "<function __main__.myplot(l, grid=True)>"
      ]
     },
     "execution_count": 44,
     "metadata": {},
     "output_type": "execute_result"
    }
   ],
   "source": [
    "skw=df['locn_brcd'].unique()\n",
    "drq=df['drq'].unique()\n",
    "\n",
    "def myplot(l,grid=True):\n",
    "    t = df[df['locn_brcd']==skw]\n",
    "    fig, ax = plt.subplots(1, 1, figsize=(8, 6))\n",
    "    ax.plot(drq,t['nDhsl'])\n",
    "    ax.grid(grid)\n",
    "widgets.interact_manual(myplot,l=skw)"
   ]
  },
  {
   "cell_type": "code",
   "execution_count": 60,
   "metadata": {},
   "outputs": [
    {
     "data": {
      "text/html": [
       "<div>\n",
       "<style scoped>\n",
       "    .dataframe tbody tr th:only-of-type {\n",
       "        vertical-align: middle;\n",
       "    }\n",
       "\n",
       "    .dataframe tbody tr th {\n",
       "        vertical-align: top;\n",
       "    }\n",
       "\n",
       "    .dataframe thead th {\n",
       "        text-align: right;\n",
       "    }\n",
       "</style>\n",
       "<table border=\"1\" class=\"dataframe\">\n",
       "  <thead>\n",
       "    <tr style=\"text-align: right;\">\n",
       "      <th></th>\n",
       "      <th>drq</th>\n",
       "      <th>locn_brcd</th>\n",
       "      <th>nhwsps</th>\n",
       "      <th>nsps</th>\n",
       "      <th>Yhsl</th>\n",
       "      <th>nDhsl</th>\n",
       "    </tr>\n",
       "  </thead>\n",
       "  <tbody>\n",
       "  </tbody>\n",
       "</table>\n",
       "</div>"
      ],
      "text/plain": [
       "Empty DataFrame\n",
       "Columns: [drq, locn_brcd, nhwsps, nsps, Yhsl, nDhsl]\n",
       "Index: []"
      ]
     },
     "execution_count": 60,
     "metadata": {},
     "output_type": "execute_result"
    }
   ],
   "source": [
    "df[df['locn_brcd']=='AB0093510']"
   ]
  }
 ],
 "metadata": {
  "interpreter": {
   "hash": "215e8f0e9f14a6123e5c7a407a71e3b3be7acc04eed682df2e57d021f372aca1"
  },
  "kernelspec": {
   "display_name": "Python 3.6.10 64-bit ('anaconda3')",
   "language": "python",
   "name": "python3"
  },
  "language_info": {
   "codemirror_mode": {
    "name": "ipython",
    "version": 3
   },
   "file_extension": ".py",
   "mimetype": "text/x-python",
   "name": "python",
   "nbconvert_exporter": "python",
   "pygments_lexer": "ipython3",
   "version": "3.6.10"
  },
  "orig_nbformat": 4
 },
 "nbformat": 4,
 "nbformat_minor": 2
}
