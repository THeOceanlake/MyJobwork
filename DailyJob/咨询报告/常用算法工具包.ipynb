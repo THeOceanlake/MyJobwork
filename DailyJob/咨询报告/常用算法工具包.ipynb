{
 "cells": [
  {
   "cell_type": "code",
   "execution_count": 2,
   "metadata": {},
   "outputs": [],
   "source": [
    "# 画图和防止中文乱码、显示数量设置\n",
    "# 画图工具\n",
    "import pandas as pd\n",
    "import matplotlib.pyplot as plt\n",
    "import numpy as np \n",
    "pd.set_option('display.max_columns',1000)\n",
    "pd.set_option('display.max_rows',500)\n",
    "pd.set_option('display.width',1000)\n",
    "import matplotlib.pyplot as plt\n",
    "from matplotlib.font_manager import FontProperties \n",
    "font_set = FontProperties(fname=r\"C:\\windows\\fonts\\MicroSoft YaHei.ttc\", size=12)\n",
    "# %matplotlib inline \n",
    "# auto 弹出窗口 inline 默认，在当前页显示\n",
    "#指定默认字体\n",
    "plt.rcParams['font.sans-serif'] = ['SimHei']\n",
    "plt.rcParams['font.family']='sans-serif'\n",
    "#解决负号'-'显示为方块的问题\n",
    "plt.rcParams['axes.unicode_minus'] = False\n",
    "\n",
    "import math\n",
    "import seaborn as sns\n",
    "import warnings;warnings.filterwarnings(action='once')\n",
    "import matplotlib as mpl\n",
    "from ipywidgets import widgets,Button,Label\n",
    "\n",
    "warnings.filterwarnings('ignore')\n",
    "\n",
    "large=22;med=16;small=12;\n",
    "params={'axes.titlesize':large,\n",
    "        'legend.fontsize':med,\n",
    "        'figure.figsize':(16,10),\n",
    "        'axes.labelsize':med,\n",
    "        'axes.titlesize':med,\n",
    "        'xtick.labelsize':med,\n",
    "        'ytick.labelsize':med,\n",
    "        'figure.titlesize':large}\n",
    "plt.rcParams.update(params)\n",
    "plt.style.use('seaborn-whitegrid')\n",
    "sns.set_style('white')"
   ]
  },
  {
   "cell_type": "code",
   "execution_count": 5,
   "metadata": {},
   "outputs": [
    {
     "data": {
      "image/png": "[encoded data removed]",
      "text/plain": [
       "<Figure size 1152x720 with 1 Axes>"
      ]
     },
     "metadata": {},
     "output_type": "display_data"
    }
   ],
   "source": [
    "# 画数据概率分布图\n",
    "# 泊松分布图\n",
    "from scipy import stats as st # 导入包\n",
    "k=1000\n",
    "s=np.random.poisson(lam=(100.,500.),size=(100,2))\n",
    "count, bins, ignored = plt.hist(s, 14, density=True)\n",
    "plt.show()\n",
    "\n",
    "#"
   ]
  },
  {
   "cell_type": "code",
   "execution_count": 9,
   "metadata": {},
   "outputs": [
    {
     "data": {
      "text/plain": [
       "KstestResult(statistic=0.5, pvalue=1.064517291557782e-231)"
      ]
     },
     "execution_count": 9,
     "metadata": {},
     "output_type": "execute_result"
    }
   ],
   "source": [
    "# K-s检验\n",
    "'''\n",
    "Kolmogorov-Smirnov检验是基于累计分布函数的，用于检验一个分布是否符合某种理论分布或比较两个经验分布是否有显著差异。\n",
    "- 单样本K-S检验是用来检验一个数据的观测经验分布是否符合已知的理论分布。\n",
    "- 两样本K-S检验由于对两样本的经验分布函数的位置和形状参数的差异都敏感，所以成为比较两样本的最有用且最常用的非参数方法之一。\n",
    "'''\n",
    "x = np.linspace(-15, 15, 9)\n",
    "x=np.random.poisson(lam=1,size=1000)\n",
    "st.kstest(x,'norm')\n",
    "st.ks_2samp()"
   ]
  },
  {
   "cell_type": "code",
   "execution_count": null,
   "metadata": {},
   "outputs": [],
   "source": [
    "st.ttest_1samp()"
   ]
  },
  {
   "cell_type": "code",
   "execution_count": null,
   "metadata": {},
   "outputs": [],
   "source": [
    "'''\n",
    "T检验和F检验的由来：为了确定从样本中的统计结果推论到总体时所犯错的概率。\n",
    "F检验又叫做联合假设检验，也称方差比率检验、方差齐性检验。是由英国统计学家Fisher提出。\n",
    "通过比较两组数据的方差，以确定他们的精密度是否有显著性差异。\n",
    "'''"
   ]
  },
  {
   "cell_type": "code",
   "execution_count": null,
   "metadata": {},
   "outputs": [],
   "source": [
    "'''\n",
    "卡方检验就是统计样本的实际观测值与理论推断值之间的偏离程度，实际观测值与理论推断值之间的偏离程度就决定卡方值的大小，卡方值越大，越不符合；\n",
    "卡方值越小，偏差越小，越趋于符合，若两个值完全相等时，卡方值就为0，表明理论值完全符合。\n",
    "- 卡方检验主要用于类别数据，而KS检验主要用于有计量单位的连续和定量数据。\n",
    "- 卡方检验也可以用于定量数据，但必须先将数据分组才能获得实际的观测频数，而KS检验能直接对原始数据进行检验，所以它对数据的利用比较完整。\n",
    "'''"
   ]
  },
  {
   "cell_type": "code",
   "execution_count": 10,
   "metadata": {},
   "outputs": [
    {
     "name": "stdout",
     "output_type": "stream",
     "text": [
      "Help on function kstest in module scipy.stats.stats:\n",
      "\n",
      "kstest(rvs, cdf, args=(), N=20, alternative='two-sided', mode='auto')\n",
      "    Performs the (one sample or two samples) Kolmogorov-Smirnov test for goodness of fit.\n",
      "    \n",
      "    The one-sample test performs a test of the distribution F(x) of an observed\n",
      "    random variable against a given distribution G(x). Under the null\n",
      "    hypothesis, the two distributions are identical, F(x)=G(x). The\n",
      "    alternative hypothesis can be either 'two-sided' (default), 'less'\n",
      "    or 'greater'. The KS test is only valid for continuous distributions.\n",
      "    The two-sample test tests whether the two independent samples are drawn\n",
      "    from the same continuous distribution.\n",
      "    \n",
      "    Parameters\n",
      "    ----------\n",
      "    rvs : str, array_like, or callable\n",
      "        If an array, it should be a 1-D array of observations of random\n",
      "        variables.\n",
      "        If a callable, it should be a function to generate random variables;\n",
      "        it is required to have a keyword argument `size`.\n",
      "        If a string, it should be the name of a distribution in `scipy.stats`,\n",
      "        which will be used to generate random variables.\n",
      "    cdf : str, array_like or callable\n",
      "        If array_like, it should be a 1-D array of observations of random\n",
      "        variables, and the two-sample test is performed (and rvs must be array_like)\n",
      "        If a callable, that callable is used to calculate the cdf.\n",
      "        If a string, it should be the name of a distribution in `scipy.stats`,\n",
      "        which will be used as the cdf function.\n",
      "    args : tuple, sequence, optional\n",
      "        Distribution parameters, used if `rvs` or `cdf` are strings or callables.\n",
      "    N : int, optional\n",
      "        Sample size if `rvs` is string or callable.  Default is 20.\n",
      "    alternative : {'two-sided', 'less', 'greater'}, optional\n",
      "        Defines the alternative hypothesis.\n",
      "        The following options are available (default is 'two-sided'):\n",
      "    \n",
      "          * 'two-sided'\n",
      "          * 'less': one-sided, see explanation in Notes\n",
      "          * 'greater': one-sided, see explanation in Notes\n",
      "    mode : {'auto', 'exact', 'approx', 'asymp'}, optional\n",
      "        Defines the distribution used for calculating the p-value.\n",
      "        The following options are available (default is 'auto'):\n",
      "    \n",
      "          * 'auto' : selects one of the other options.\n",
      "          * 'exact' : uses the exact distribution of test statistic.\n",
      "          * 'approx' : approximates the two-sided probability with twice the one-sided probability\n",
      "          * 'asymp': uses asymptotic distribution of test statistic\n",
      "    \n",
      "    Returns\n",
      "    -------\n",
      "    statistic : float\n",
      "        KS test statistic, either D, D+ or D-.\n",
      "    pvalue :  float\n",
      "        One-tailed or two-tailed p-value.\n",
      "    \n",
      "    See Also\n",
      "    --------\n",
      "    ks_2samp\n",
      "    \n",
      "    Notes\n",
      "    -----\n",
      "    In the one-sided test, the alternative is that the empirical\n",
      "    cumulative distribution function of the random variable is \"less\"\n",
      "    or \"greater\" than the cumulative distribution function G(x) of the\n",
      "    hypothesis, ``F(x)<=G(x)``, resp. ``F(x)>=G(x)``.\n",
      "    \n",
      "    Examples\n",
      "    --------\n",
      "    >>> from scipy import stats\n",
      "    \n",
      "    >>> x = np.linspace(-15, 15, 9)\n",
      "    >>> stats.kstest(x, 'norm')\n",
      "    (0.44435602715924361, 0.038850142705171065)\n",
      "    \n",
      "    >>> np.random.seed(987654321) # set random seed to get the same result\n",
      "    >>> stats.kstest(stats.norm.rvs(size=100), stats.norm.cdf)\n",
      "    (0.058352892479417884, 0.8653960860778898)\n",
      "    \n",
      "    The above lines are equivalent to:\n",
      "    \n",
      "    >>> np.random.seed(987654321)\n",
      "    >>> stats.kstest(stats.norm.rvs, 'norm', N=100)\n",
      "    (0.058352892479417884, 0.8653960860778898)\n",
      "    \n",
      "    *Test against one-sided alternative hypothesis*\n",
      "    \n",
      "    Shift distribution to larger values, so that ``CDF(x) < norm.cdf(x)``:\n",
      "    \n",
      "    >>> np.random.seed(987654321)\n",
      "    >>> x = stats.norm.rvs(loc=0.2, size=100)\n",
      "    >>> stats.kstest(x, 'norm', alternative='less')\n",
      "    (0.12464329735846891, 0.040989164077641749)\n",
      "    \n",
      "    Reject equal distribution against alternative hypothesis: less\n",
      "    \n",
      "    >>> stats.kstest(x, 'norm', alternative='greater')\n",
      "    (0.0072115233216311081, 0.98531158590396395)\n",
      "    \n",
      "    Don't reject equal distribution against alternative hypothesis: greater\n",
      "    \n",
      "    >>> stats.kstest(x, 'norm')\n",
      "    (0.12464329735846891, 0.08197335233541582)\n",
      "    \n",
      "    *Testing t distributed random variables against normal distribution*\n",
      "    \n",
      "    With 100 degrees of freedom the t distribution looks close to the normal\n",
      "    distribution, and the K-S test does not reject the hypothesis that the\n",
      "    sample came from the normal distribution:\n",
      "    \n",
      "    >>> np.random.seed(987654321)\n",
      "    >>> stats.kstest(stats.t.rvs(100, size=100), 'norm')\n",
      "    (0.072018929165471257, 0.6505883498379312)\n",
      "    \n",
      "    With 3 degrees of freedom the t distribution looks sufficiently different\n",
      "    from the normal distribution, that we can reject the hypothesis that the\n",
      "    sample came from the normal distribution at the 10% level:\n",
      "    \n",
      "    >>> np.random.seed(987654321)\n",
      "    >>> stats.kstest(stats.t.rvs(3, size=100), 'norm')\n",
      "    (0.131016895759829, 0.058826222555312224)\n",
      "\n"
     ]
    }
   ],
   "source": [
    "help(st.kstest)"
   ]
  }
 ],
 "metadata": {
  "interpreter": {
   "hash": "370b4a2736593003eab9087e94a14f3387e8929018b63c26c2cd2cade2227d6b"
  },
  "kernelspec": {
   "display_name": "Python 3.6.10 64-bit ('base': conda)",
   "name": "python3"
  },
  "language_info": {
   "codemirror_mode": {
    "name": "ipython",
    "version": 3
   },
   "file_extension": ".py",
   "mimetype": "text/x-python",
   "name": "python",
   "nbconvert_exporter": "python",
   "pygments_lexer": "ipython3",
   "version": "3.6.10"
  },
  "orig_nbformat": 4
 },
 "nbformat": 4,
 "nbformat_minor": 2
}
