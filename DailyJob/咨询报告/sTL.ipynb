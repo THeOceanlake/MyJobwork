{
 "cells": [
  {
   "cell_type": "code",
   "execution_count": 18,
   "metadata": {},
   "outputs": [],
   "source": [
    "# 画图工具\n",
    "import pandas as pd\n",
    "import matplotlib.pyplot as plt\n",
    "import numpy as np \n",
    "pd.set_option('display.max_columns',1000)\n",
    "pd.set_option('display.max_rows',500)\n",
    "pd.set_option('display.width',1000)\n",
    "import matplotlib.pyplot as plt\n",
    "from matplotlib.font_manager import FontProperties \n",
    "font_set = FontProperties(fname=r\"C:\\windows\\fonts\\MicroSoft YaHei.ttc\", size=12)\n",
    "# %matplotlib inline \n",
    "# auto 弹出窗口 inline 默认，在当前页显示\n",
    "#指定默认字体\n",
    "plt.rcParams['font.sans-serif'] = ['SimHei']\n",
    "plt.rcParams['font.family']='sans-serif'\n",
    "#解决负号'-'显示为方块的问题\n",
    "plt.rcParams['axes.unicode_minus'] = False\n",
    "\n",
    "import math\n",
    "import seaborn as sns\n",
    "import warnings;warnings.filterwarnings(action='once')\n",
    "import matplotlib as mpl\n",
    "from ipywidgets import widgets,Button,Label\n",
    "\n",
    "warnings.filterwarnings('ignore')\n",
    "\n",
    "large=22;med=16;small=12;\n",
    "params={'axes.titlesize':large,\n",
    "        'legend.fontsize':med,\n",
    "        'figure.figsize':(16,10),\n",
    "        'axes.labelsize':med,\n",
    "        'axes.titlesize':med,\n",
    "        'xtick.labelsize':med,\n",
    "        'ytick.labelsize':med,\n",
    "        'figure.titlesize':large}\n",
    "plt.rcParams.update(params)\n",
    "plt.style.use('seaborn-whitegrid')\n",
    "sns.set_style('white')"
   ]
  },
  {
   "cell_type": "code",
   "execution_count": 81,
   "metadata": {},
   "outputs": [
    {
     "data": {
      "text/html": [
       "<div>\n",
       "<style scoped>\n",
       "    .dataframe tbody tr th:only-of-type {\n",
       "        vertical-align: middle;\n",
       "    }\n",
       "\n",
       "    .dataframe tbody tr th {\n",
       "        vertical-align: top;\n",
       "    }\n",
       "\n",
       "    .dataframe thead th {\n",
       "        text-align: right;\n",
       "    }\n",
       "</style>\n",
       "<table border=\"1\" class=\"dataframe\">\n",
       "  <thead>\n",
       "    <tr style=\"text-align: right;\">\n",
       "      <th></th>\n",
       "      <th>drq</th>\n",
       "      <th>szl</th>\n",
       "      <th>nzb</th>\n",
       "      <th>nzhzb</th>\n",
       "    </tr>\n",
       "  </thead>\n",
       "  <tbody>\n",
       "    <tr>\n",
       "      <th>0</th>\n",
       "      <td>2019-01-01</td>\n",
       "      <td>0101奶粉</td>\n",
       "      <td>0.479163</td>\n",
       "      <td>0.0</td>\n",
       "    </tr>\n",
       "    <tr>\n",
       "      <th>1</th>\n",
       "      <td>2019-01-02</td>\n",
       "      <td>0101奶粉</td>\n",
       "      <td>0.534195</td>\n",
       "      <td>0.0</td>\n",
       "    </tr>\n",
       "    <tr>\n",
       "      <th>2</th>\n",
       "      <td>2019-01-03</td>\n",
       "      <td>0101奶粉</td>\n",
       "      <td>0.510545</td>\n",
       "      <td>0.0</td>\n",
       "    </tr>\n",
       "    <tr>\n",
       "      <th>3</th>\n",
       "      <td>2019-01-04</td>\n",
       "      <td>0101奶粉</td>\n",
       "      <td>0.554851</td>\n",
       "      <td>0.0</td>\n",
       "    </tr>\n",
       "    <tr>\n",
       "      <th>4</th>\n",
       "      <td>2019-01-05</td>\n",
       "      <td>0101奶粉</td>\n",
       "      <td>0.586538</td>\n",
       "      <td>0.0</td>\n",
       "    </tr>\n",
       "  </tbody>\n",
       "</table>\n",
       "</div>"
      ],
      "text/plain": [
       "          drq     szl       nzb  nzhzb\n",
       "0  2019-01-01  0101奶粉  0.479163    0.0\n",
       "1  2019-01-02  0101奶粉  0.534195    0.0\n",
       "2  2019-01-03  0101奶粉  0.510545    0.0\n",
       "3  2019-01-04  0101奶粉  0.554851    0.0\n",
       "4  2019-01-05  0101奶粉  0.586538    0.0"
      ]
     },
     "execution_count": 81,
     "metadata": {},
     "output_type": "execute_result"
    }
   ],
   "source": [
    "df = pd.read_excel(r\"C:\\Users\\57165\\Desktop\\data\\datas\\seasons.xlsx\",sheet_name='Sheet9',dtype={'drq':str,'szl':str})\n",
    "df=df.fillna(0)\n",
    "df.head()"
   ]
  },
  {
   "cell_type": "code",
   "execution_count": 3,
   "metadata": {},
   "outputs": [],
   "source": [
    "from statsmodels.tsa.seasonal import STL\n"
   ]
  },
  {
   "cell_type": "code",
   "execution_count": 166,
   "metadata": {},
   "outputs": [
    {
     "data": {
      "application/vnd.jupyter.widget-view+json": {
       "model_id": "18ef6ff292f9471fba04bfbc5b8adc2b",
       "version_major": 2,
       "version_minor": 0
      },
      "text/plain": [
       "interactive(children=(Dropdown(description='color', options=('blue', 'red', 'green', ''), value='blue'), Dropd…"
      ]
     },
     "metadata": {},
     "output_type": "display_data"
    }
   ],
   "source": [
    "# elecequip=df.loc[df['szl']=='0201膨化']\n",
    "# elecequip.set_index=elecequip['drq']\n",
    "# stl = STL(elecequip['nzb'], period=60, robust=True)\n",
    "# res_robust = stl.fit()\n",
    "# fig = res_robust.plot()\n",
    "@widgets.interact_manual(\n",
    "    color=['blue', 'red', 'green',''],sfl=sorted(df['szl'].unique()),Text='T')\n",
    "# 分店汇总\n",
    "\n",
    "def plot1(color='blue',sfl='0201膨化', grid=True,):\n",
    "    t = df['drq'].unique()\n",
    "    k=df.loc[df['szl']==sfl]\n",
    "    stl = STL(k['nzb'], period=30, robust=True)\n",
    "    res_robust = stl.fit()\n",
    "\n",
    "    plt.figure(figsize=(18, 10))\n",
    "    t=df.loc[res_robust.weights.index,'drq']\n",
    "    plt.subplot(411)\n",
    "    plt.plot(res_robust.observed)\n",
    "    plt.subplot(412)\n",
    "    plt.plot(res_robust.trend)\n",
    "\n",
    "    plt.subplot(413)\n",
    "    plt.plot(res_robust.seasonal)\n",
    "\n",
    "    plt.subplot(414)\n",
    "    plt.plot(res_robust.resid)\n",
    "    # locs,labes=plt.xticks()\n",
    "    # locs=list([i for i in range(len(t)) if i%250==0])\n",
    "    # print(locs,t,t.iloc[locs])\n",
    "    # plt.xticks(locs,t.iloc[locs])\n",
    "    plt.show()\n"
   ]
  },
  {
   "cell_type": "code",
   "execution_count": 85,
   "metadata": {},
   "outputs": [
    {
     "data": {
      "image/png": "[encoded data removed]",
      "text/plain": [
       "<Figure size 1296x432 with 1 Axes>"
      ]
     },
     "metadata": {},
     "output_type": "display_data"
    }
   ],
   "source": [
    "ft=np.fft.fft(df.loc[df['szl']=='0904防虫杀虫']['nzb'])\n",
    "plt.figure(figsize=(18,6))\n",
    "plt.plot(ft)\n",
    "# drq=df['drq'].unique();\n",
    "# t=list([drq[i] for i in range(len(drq)) if i%5==0]);\n",
    "# plt.xticks(t,Rotation=30);\n",
    "plt.show()"
   ]
  },
  {
   "cell_type": "code",
   "execution_count": 104,
   "metadata": {},
   "outputs": [
    {
     "data": {
      "text/plain": [
       "38692    0.091235\n",
       "38694    0.063796\n",
       "38752    0.067930\n",
       "39187    0.060544\n",
       "39408    0.051072\n",
       "39468    0.063016\n",
       "39477    0.059880\n",
       "39522    0.057541\n",
       "39528    0.075841\n",
       "39537    0.085446\n",
       "39582    0.083646\n",
       "39588    0.087109\n",
       "39597    0.112271\n",
       "Name: season, dtype: float64"
      ]
     },
     "execution_count": 104,
     "metadata": {},
     "output_type": "execute_result"
    }
   ],
   "source": [
    "stl = STL(df.loc[df['szl']=='0904防虫杀虫']['nzb'], period=60, robust=True)\n",
    "m=stl.fit()\n",
    "i=m.seasonal\n",
    "i[i>0.05]"
   ]
  },
  {
   "cell_type": "code",
   "execution_count": 165,
   "metadata": {},
   "outputs": [
    {
     "data": {
      "text/plain": [
       "Int64Index([38639, 38640, 38641, 38642, 38643, 38644, 38645, 38646, 38647, 38648,\n",
       "            ...\n",
       "            39630, 39631, 39632, 39633, 39634, 39635, 39636, 39637, 39638, 39639], dtype='int64', length=1001)"
      ]
     },
     "execution_count": 165,
     "metadata": {},
     "output_type": "execute_result"
    }
   ],
   "source": [
    " t=df.loc[m.weights.index,'drq']\n",
    " t.index"
   ]
  }
 ],
 "metadata": {
  "interpreter": {
   "hash": "370b4a2736593003eab9087e94a14f3387e8929018b63c26c2cd2cade2227d6b"
  },
  "kernelspec": {
   "display_name": "Python 3.6.10 64-bit ('base': conda)",
   "name": "python3"
  },
  "language_info": {
   "codemirror_mode": {
    "name": "ipython",
    "version": 3
   },
   "file_extension": ".py",
   "mimetype": "text/x-python",
   "name": "python",
   "nbconvert_exporter": "python",
   "pygments_lexer": "ipython3",
   "version": "3.6.10"
  },
  "orig_nbformat": 4
 },
 "nbformat": 4,
 "nbformat_minor": 2
}
